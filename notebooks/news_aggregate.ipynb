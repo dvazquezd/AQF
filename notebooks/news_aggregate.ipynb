{
 "cells": [
  {
   "cell_type": "code",
   "execution_count": 68,
   "metadata": {},
   "outputs": [],
   "source": [
    "import pandas as pd\n",
    "\n",
    "df = pd.read_csv('../data/df_news.csv')"
   ]
  },
  {
   "cell_type": "code",
   "execution_count": 69,
   "metadata": {},
   "outputs": [],
   "source": [
    "df_ticker = df[df['ticker'] == 'NVDA'].copy()\n",
    "\n",
    "# Eliminar duplicados en función de ciertas columnas y seleccionar solo esas\n",
    "df_ticker = df_ticker.drop_duplicates(subset=['title', 'datetime', 'relevance_score', 'ticker_sentiment_score'])[\n",
    "    ['title', 'datetime', 'relevance_score', 'ticker_sentiment_score']\n",
    "]\n",
    "\n",
    "# Calcular ticker_score\n",
    "df_ticker['ticker_score'] = (df_ticker['relevance_score'] * df_ticker['ticker_sentiment_score']) * 5\n",
    "\n",
    "# Agregar por datetime sumando ticker_score\n",
    "df_ticker = df_ticker.groupby('datetime', as_index=False).agg({'ticker_score': 'sum'})\n",
    "\n",
    "# Ordenar por datetime\n",
    "df_ticker = df_ticker.sort_values(by='datetime', ascending=True)\n"
   ]
  },
  {
   "cell_type": "code",
   "execution_count": 70,
   "metadata": {},
   "outputs": [],
   "source": [
    "news_data = df[['datetime', 'title', 'overall_sentiment_score', 'relevance_score']].drop_duplicates()\n",
    "news_data[['overall_sentiment_score', 'relevance_score']] = news_data[['overall_sentiment_score', 'relevance_score']].apply(pd.to_numeric, errors='coerce')\n",
    "global_metrics = news_data.groupby('datetime').agg({\n",
    "            'overall_sentiment_score': lambda x: round(x.mean(), 6),\n",
    "            'relevance_score': lambda x: round(x.mean(), 6)\n",
    "        }).rename(columns={\n",
    "            'overall_sentiment_score': 'all_news_ossm',\n",
    "            'relevance_score': 'all_news_rsm'\n",
    "        }).reset_index()\n",
    "\n",
    "global_metrics['global_score'] = global_metrics['all_news_ossm'] * global_metrics['all_news_rsm']"
   ]
  },
  {
   "cell_type": "code",
   "execution_count": null,
   "metadata": {},
   "outputs": [],
   "source": [
    "df_fn = pd.merge(global_metrics, df_ticker, on='datetime', how='outer')\n",
    "\n",
    "df_fn['ticker_score'] = df_fn['ticker_score'].fillna(0)\n",
    "df_fn['global_score'] = df_fn['global_score'].fillna(0)\n"
   ]
  }
 ],
 "metadata": {
  "kernelspec": {
   "display_name": ".venv",
   "language": "python",
   "name": "python3"
  },
  "language_info": {
   "codemirror_mode": {
    "name": "ipython",
    "version": 3
   },
   "file_extension": ".py",
   "mimetype": "text/x-python",
   "name": "python",
   "nbconvert_exporter": "python",
   "pygments_lexer": "ipython3",
   "version": "3.9.13"
  }
 },
 "nbformat": 4,
 "nbformat_minor": 2
}
